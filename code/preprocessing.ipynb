{
  "nbformat": 4,
  "nbformat_minor": 0,
  "metadata": {
    "colab": {
      "name": "preprocessing.ipynb",
      "provenance": [],
      "collapsed_sections": []
    },
    "kernelspec": {
      "name": "python3",
      "display_name": "Python 3"
    },
    "accelerator": "GPU"
  },
  "cells": [
    {
      "cell_type": "code",
      "metadata": {
        "id": "9ckclwWSGP_J",
        "colab_type": "code",
        "outputId": "9fac63d2-9048-48ea-f7c8-773189bcf620",
        "colab": {
          "base_uri": "https://localhost:8080/",
          "height": 34
        }
      },
      "source": [
        "from google.colab import drive\n",
        "drive.mount('/content/drive')"
      ],
      "execution_count": 0,
      "outputs": [
        {
          "output_type": "stream",
          "text": [
            "Drive already mounted at /content/drive; to attempt to forcibly remount, call drive.mount(\"/content/drive\", force_remount=True).\n"
          ],
          "name": "stdout"
        }
      ]
    },
    {
      "cell_type": "code",
      "metadata": {
        "id": "TXyW62DLbtXj",
        "colab_type": "code",
        "colab": {}
      },
      "source": [
        "import os\n",
        "import json\n",
        "import pandas as pd\n",
        "import numpy as np"
      ],
      "execution_count": 0,
      "outputs": []
    },
    {
      "cell_type": "code",
      "metadata": {
        "id": "UIgW0BEcVawJ",
        "colab_type": "code",
        "outputId": "0c0b0695-1732-41f7-cb9e-9fb133765891",
        "colab": {
          "base_uri": "https://localhost:8080/",
          "height": 612
        }
      },
      "source": [
        "path = '/content/drive/My Drive/Colab Notebooks/ANN/data_openpose'\n",
        "\n",
        "for i in range(35):\n",
        "  data = pd.DataFrame(columns=['file', 'label', 'keypoints'])\n",
        "  print(i)\n",
        "  for file in os.listdir(path):\n",
        "    if file.startswith('pick' + str(i + 1) + '_'):\n",
        "      with open(os.path.join(path, file)) as f_json:\n",
        "        df = json.load(f_json)\n",
        "        if (df['people'] != []):\n",
        "          keypoints = df['people'][0]['pose_keypoints_2d']\n",
        "          data = data.append({'file': file, 'label': 1, 'keypoints': keypoints}, ignore_index=True)\n",
        "          data = data.sort_values([\"file\"], ascending = True)\n",
        "          #print(data)\n",
        "          out_name = 'pick' + str(i + 1) + '.csv'\n",
        "          data.to_csv(r'/content/drive/My Drive/Colab Notebooks/ANN/frame_data/' + out_name, index = False)"
      ],
      "execution_count": 0,
      "outputs": [
        {
          "output_type": "stream",
          "text": [
            "0\n",
            "1\n",
            "2\n",
            "3\n",
            "4\n",
            "5\n",
            "6\n",
            "7\n",
            "8\n",
            "9\n",
            "10\n",
            "11\n",
            "12\n",
            "13\n",
            "14\n",
            "15\n",
            "16\n",
            "17\n",
            "18\n",
            "19\n",
            "20\n",
            "21\n",
            "22\n",
            "23\n",
            "24\n",
            "25\n",
            "26\n",
            "27\n",
            "28\n",
            "29\n",
            "30\n",
            "31\n",
            "32\n",
            "33\n",
            "34\n"
          ],
          "name": "stdout"
        }
      ]
    },
    {
      "cell_type": "code",
      "metadata": {
        "id": "rPfgbmWKYEF6",
        "colab_type": "code",
        "outputId": "45f45dad-9fcb-40b5-ea6f-e69d1d31b4ee",
        "colab": {
          "base_uri": "https://localhost:8080/",
          "height": 323
        }
      },
      "source": [
        "for i in range(18):\n",
        "  data = pd.DataFrame(columns=['file', 'label', 'keypoints'])\n",
        "  print(i)\n",
        "  for file in os.listdir(path):\n",
        "    if file.startswith('wave' + str(i + 1) + '_'):\n",
        "      with open(os.path.join(path, file)) as f_json:\n",
        "        df = json.load(f_json)\n",
        "        if (df['people'] != []):\n",
        "          keypoints = df['people'][0]['pose_keypoints_2d']\n",
        "          data = data.append({'file': file, 'label': 0, 'keypoints': keypoints}, ignore_index=True)\n",
        "          data = data.sort_values([\"file\"], ascending = True)\n",
        "          out_name = 'wave' + str(i + 1) + '.csv'\n",
        "          data.to_csv(r'/content/drive/My Drive/Colab Notebooks/ANN/frame_data/' + out_name, index = False)"
      ],
      "execution_count": 0,
      "outputs": [
        {
          "output_type": "stream",
          "text": [
            "0\n",
            "1\n",
            "2\n",
            "3\n",
            "4\n",
            "5\n",
            "6\n",
            "7\n",
            "8\n",
            "9\n",
            "10\n",
            "11\n",
            "12\n",
            "13\n",
            "14\n",
            "15\n",
            "16\n",
            "17\n"
          ],
          "name": "stdout"
        }
      ]
    },
    {
      "cell_type": "code",
      "metadata": {
        "id": "uw669SnkrMW3",
        "colab_type": "code",
        "outputId": "e0218376-90b6-4403-ec49-d875b479db8c",
        "colab": {
          "base_uri": "https://localhost:8080/",
          "height": 323
        }
      },
      "source": [
        "for i in range(18):\n",
        "  data = pd.DataFrame(columns=['file', 'label', 'keypoints'])\n",
        "  print(i)\n",
        "  for file in os.listdir(path):\n",
        "    if file.startswith('walk' + str(i + 1) + '_'):\n",
        "      with open(os.path.join(path, file)) as f_json:\n",
        "        df = json.load(f_json)\n",
        "        if (df['people'] != []):\n",
        "          keypoints = df['people'][0]['pose_keypoints_2d']\n",
        "          data = data.append({'file': file, 'label': 0, 'keypoints': keypoints}, ignore_index=True)\n",
        "          data = data.sort_values([\"file\"], ascending = True)\n",
        "          out_name = 'walk' + str(i + 1) + '.csv'\n",
        "          data.to_csv(r'/content/drive/My Drive/Colab Notebooks/ANN/frame_data/' + out_name, index = False)"
      ],
      "execution_count": 0,
      "outputs": [
        {
          "output_type": "stream",
          "text": [
            "0\n",
            "1\n",
            "2\n",
            "3\n",
            "4\n",
            "5\n",
            "6\n",
            "7\n",
            "8\n",
            "9\n",
            "10\n",
            "11\n",
            "12\n",
            "13\n",
            "14\n",
            "15\n",
            "16\n",
            "17\n"
          ],
          "name": "stdout"
        }
      ]
    }
  ]
}
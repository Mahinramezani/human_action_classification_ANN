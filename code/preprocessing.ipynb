{
  "nbformat": 4,
  "nbformat_minor": 0,
  "metadata": {
    "colab": {
      "name": "preprocessing.ipynb",
      "provenance": [],
      "collapsed_sections": []
    },
    "kernelspec": {
      "name": "python3",
      "display_name": "Python 3"
    },
    "accelerator": "GPU"
  },
  "cells": [
    {
      "cell_type": "code",
      "metadata": {
        "id": "9ckclwWSGP_J",
        "colab_type": "code",
        "outputId": "5f595d11-013b-4e79-f2dc-15e9a606291e",
        "colab": {
          "base_uri": "https://localhost:8080/",
          "height": 34
        }
      },
      "source": [
        "from google.colab import drive\n",
        "drive.mount('/content/drive')"
      ],
      "execution_count": 0,
      "outputs": [
        {
          "output_type": "stream",
          "text": [
            "Drive already mounted at /content/drive; to attempt to forcibly remount, call drive.mount(\"/content/drive\", force_remount=True).\n"
          ],
          "name": "stdout"
        }
      ]
    },
    {
      "cell_type": "code",
      "metadata": {
        "id": "TXyW62DLbtXj",
        "colab_type": "code",
        "colab": {}
      },
      "source": [
        "import os\n",
        "import json\n",
        "import pandas as pd\n",
        "import numpy as np"
      ],
      "execution_count": 0,
      "outputs": []
    },
    {
      "cell_type": "code",
      "metadata": {
        "id": "uw669SnkrMW3",
        "colab_type": "code",
        "colab": {}
      },
      "source": [
        "path = '/content/drive/My Drive/Colab Notebooks/ANN/result2/'\n",
        "data = pd.DataFrame(columns=['file', 'label', 'keypoints'])\n",
        "\n",
        "for i in range(35):\n",
        "  print(i)\n",
        "  d = list()\n",
        "  for file in os.listdir(path):\n",
        "    if file.startswith('pick' + str(i + 1) + '_'):\n",
        "      with open(os.path.join(path, file)) as f_json:\n",
        "        df = json.load(f_json)\n",
        "        if (df['people'] != []):\n",
        "          keypoints = df['people'][0]['pose_keypoints_2d']\n",
        "          d.append(keypoints)\n",
        "  data = data.append({'file': 'pick' + str(i + 1) , 'label': 'pick', 'keypoints': d}, ignore_index=True)\n",
        "\n",
        "for j in range(35):\n",
        "  print(j)\n",
        "  d = list()\n",
        "  for file in os.listdir(path):\n",
        "    if file.startswith('wave' + str(j + 1) + '_'):\n",
        "      with open(os.path.join(path, file)) as f_json:\n",
        "        df = json.load(f_json)\n",
        "        if (df['people'] != []):\n",
        "          keypoints = df['people'][0]['pose_keypoints_2d']\n",
        "          d.append(keypoints)\n",
        "  data = data.append({'file': 'wave' + str(j + 1) , 'label': 'wave', 'keypoints': d}, ignore_index=True)"
      ],
      "execution_count": 0,
      "outputs": []
    },
    {
      "cell_type": "code",
      "metadata": {
        "id": "72EskIWTe9tQ",
        "colab_type": "code",
        "colab": {}
      },
      "source": [
        "data.to_csv(r'/content/drive/My Drive/Colab Notebooks/ANN/data3.csv', index = False)\n"
      ],
      "execution_count": 0,
      "outputs": []
    }
  ]
}
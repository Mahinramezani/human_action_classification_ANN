{
 "cells": [
  {
   "cell_type": "code",
   "execution_count": 1,
   "metadata": {
    "colab": {
     "base_uri": "https://localhost:8080/",
     "height": 34
    },
    "colab_type": "code",
    "id": "xqzUSVspOS_e",
    "outputId": "948dadff-3cac-4651-93c4-baac3fadca12"
   },
   "outputs": [
    {
     "name": "stderr",
     "output_type": "stream",
     "text": [
      "Using TensorFlow backend.\n"
     ]
    }
   ],
   "source": [
    "import os\n",
    "import random\n",
    "import pandas as pd\n",
    "import numpy as np\n",
    "import matplotlib.pyplot as plt\n",
    "from ast import literal_eval\n",
    "from sklearn.model_selection import train_test_split\n",
    "from keras import layers\n",
    "from keras import models\n",
    "from keras.utils.vis_utils import plot_model\n",
    "from keras.models import Model\n",
    "from keras import Input\n",
    "from keras.callbacks import ModelCheckpoint"
   ]
  },
  {
   "cell_type": "code",
   "execution_count": 2,
   "metadata": {},
   "outputs": [],
   "source": [
    "import tensorflow as tf"
   ]
  },
  {
   "cell_type": "code",
   "execution_count": 6,
   "metadata": {
    "colab": {
     "base_uri": "https://localhost:8080/",
     "height": 104
    },
    "colab_type": "code",
    "id": "us_25hp6OTJ5",
    "outputId": "3809ae4a-4ae2-484b-b8d4-4ee9c6688feb"
   },
   "outputs": [
    {
     "name": "stdout",
     "output_type": "stream",
     "text": [
      "['pick123.csv', 'other35.csv', 'walk12.csv', 'pick44.csv', 'pick112.csv', 'walk15.csv', 'pick128.csv', 'other38.csv', 'other93.csv', 'other30.csv', 'pick102.csv', 'pick122.csv', 'other11.csv', 'pick52.csv', 'pick62.csv', 'other83.csv', 'other51.csv', 'pick91.csv', 'other90.csv', 'pick42.csv', 'other84.csv', 'pick13.csv', 'pick58.csv', 'pick95.csv', 'other65.csv', 'pick77.csv', 'pick73.csv', 'new_3.csv', 'other13.csv', 'pick87.csv', 'new_8.csv', 'pick109.csv', 'pick67.csv', 'pick100.csv', 'other85.csv', 'other26.csv', 'pick129.csv', 'pick18.csv', 'new_6.csv', 'pick111.csv', 'other36.csv', 'pick21.csv', 'other33.csv', 'pick115.csv', 'pick70.csv', 'pick30.csv', 'pick94.csv', 'pick16.csv', 'pick105.csv', 'walk1.csv', 'pick121.csv', 'pick45.csv', 'other48.csv', 'pick125.csv', 'pick17.csv', 'pick59.csv', 'pick37.csv', 'walk5.csv', 'pick47.csv', 'other17.csv', 'pick31.csv', 'walk9.csv', 'pick99.csv', 'pick5.csv', 'other41.csv', 'other80.csv', 'pick63.csv', 'pick75.csv', 'pick98.csv', 'wave8.csv', 'other86.csv', 'other94.csv', 'other58.csv', 'wave9.csv', 'pick76.csv', 'pick61.csv', 'other50.csv', 'other14.csv', 'wave11.csv', 'pick119.csv', 'walk13.csv', 'other23.csv', 'other66.csv', 'pick8.csv', 'other18.csv', 'pick104.csv', 'pick106.csv', 'other60.csv', 'pick26.csv', 'other47.csv', 'walk17.csv', 'pick22.csv', 'other52.csv', 'pick72.csv', 'walk10.csv', 'other10.csv', 'pick78.csv', 'other76.csv', 'other3.csv', 'new_4.csv', 'pick51.csv', 'pick114.csv', 'other92.csv', 'other43.csv', 'walk6.csv', 'pick29.csv', 'pick39.csv', 'other15.csv', 'pick11.csv', 'wave14.csv', 'pick117.csv', 'pick28.csv', 'wave13.csv', 'pick65.csv', 'other64.csv', 'pick24.csv', 'pick41.csv', 'other4.csv', 'other29.csv', 'pick83.csv', 'other12.csv', 'pick74.csv', 'pick110.csv', 'pick118.csv', 'pick101.csv', 'walk2.csv', 'other91.csv', 'pick66.csv', 'other19.csv', 'pick3.csv', 'wave12.csv', 'other42.csv', 'pick27.csv', 'other49.csv', 'pick92.csv', 'pick33.csv', 'pick15.csv', 'pick88.csv', 'wave15.csv', 'pick43.csv', 'new_2.csv', 'other68.csv', 'walk16.csv', 'wave5.csv', 'other55.csv', 'new_11.csv', 'new_9.csv', 'pick108.csv', 'pick89.csv', 'pick81.csv', 'wave1.csv', 'pick116.csv', 'other75.csv', 'pick20.csv', 'other27.csv', 'other56.csv', 'other2.csv', 'walk4.csv', 'other82.csv', 'pick14.csv', 'other73.csv', 'pick84.csv', 'other88.csv', 'walk14.csv', 'other28.csv', 'pick56.csv', 'pick93.csv', 'wave3.csv', 'other20.csv', 'other77.csv', 'pick96.csv', 'pick46.csv', 'wave7.csv', 'pick113.csv', 'walk11.csv', 'other22.csv', 'other45.csv', 'other70.csv', 'pick50.csv', 'pick4.csv', 'other34.csv', 'pick103.csv', 'other81.csv', 'pick6.csv', 'wave10.csv', 'pick107.csv', 'pick53.csv', 'new_5.csv', 'other63.csv', 'pick23.csv', 'other89.csv', 'pick126.csv', 'pick7.csv', 'pick19.csv', 'other62.csv', 'other6.csv', 'wave4.csv', 'other74.csv']\n",
      "['other21.csv', 'pick40.csv', 'walk3.csv', 'pick80.csv', 'other8.csv', 'other25.csv', 'pick90.csv', 'other67.csv', 'pick79.csv', 'pick130.csv', 'wave18.csv', 'wave16.csv', 'pick124.csv', 'walk18.csv', 'pick85.csv', 'other37.csv', 'pick36.csv', 'walk7.csv', 'pick38.csv', 'pick86.csv', 'other59.csv', 'other54.csv', 'pick34.csv', 'other72.csv', 'new_1.csv', 'walk8.csv', 'pick10.csv', 'pick97.csv', 'pick54.csv', 'other5.csv', 'pick64.csv', 'other24.csv', 'pick1.csv', 'pick60.csv', 'pick32.csv', 'pick35.csv', 'pick9.csv', 'pick25.csv', 'wave6.csv', 'other1.csv', 'other44.csv', 'other31.csv', 'new_12.csv', 'other9.csv', 'pick68.csv', 'new_10.csv', 'other57.csv', 'other71.csv', 'pick55.csv', 'pick49.csv']\n",
      "X_train: (13827, 75)    y_train: (13827,) \n",
      "X_val: (3425, 75)    y_val: (3425,) \n"
     ]
    }
   ],
   "source": [
    "# prepare data\n",
    "\n",
    "path = '/scratch/user/mahin/ANN/frame_data/'\n",
    "train = pd.DataFrame(columns=['file', 'label', 'keypoints'])\n",
    "val = pd.DataFrame(columns=['file', 'label', 'keypoints'])\n",
    "\n",
    "files = os.listdir(path)\n",
    "random.shuffle(files)\n",
    "train_files, val_files = train_test_split(files, train_size=0.8)\n",
    "print(train_files)\n",
    "print(val_files)\n",
    "\n",
    "for f_train in train_files:\n",
    "    df_train = pd.read_csv(os.path.join(path, f_train))\n",
    "    train = train.append(df_train)\n",
    "train = train.reset_index(drop=True)\n",
    "\n",
    "for f_val in val_files:\n",
    "    df_val = pd.read_csv(os.path.join(path, f_val))\n",
    "    val = val.append(df_val)\n",
    "val = val.reset_index(drop=True)\n",
    "\n",
    "X_train = np.zeros((len(train), 75))\n",
    "for i in range(len(train)):\n",
    "    X_train[i] = np.array(literal_eval(train['keypoints'][i]))\n",
    "y_train = np.array(train.label)\n",
    "\n",
    "X_val = np.zeros((len(val), 75))\n",
    "for j in range(len(val)):\n",
    "    X_val[j] = np.array(literal_eval(val['keypoints'][j]))\n",
    "y_val = np.array(val.label)\n",
    "\n",
    "print(\"X_train: %s    y_train: %s \\nX_val: %s    y_val: %s \" %(X_train.shape, y_train.shape, X_val.shape, y_val.shape))\n"
   ]
  },
  {
   "cell_type": "code",
   "execution_count": 10,
   "metadata": {},
   "outputs": [
    {
     "name": "stdout",
     "output_type": "stream",
     "text": [
      "Model: \"model_3\"\n",
      "__________________________________________________________________________________________________\n",
      "Layer (type)                    Output Shape         Param #     Connected to                     \n",
      "==================================================================================================\n",
      "input_3 (InputLayer)            (None, 75)           0                                            \n",
      "__________________________________________________________________________________________________\n",
      "embedding_3 (Embedding)         (None, 75, 8)        80000       input_3[0][0]                    \n",
      "__________________________________________________________________________________________________\n",
      "dense_11 (Dense)                (None, 75, 128)      1152        embedding_3[0][0]                \n",
      "__________________________________________________________________________________________________\n",
      "dropout_7 (Dropout)             (None, 75, 128)      0           dense_11[0][0]                   \n",
      "__________________________________________________________________________________________________\n",
      "bidirectional_2 (Bidirectional) (None, 75, 128)      98816       dropout_7[0][0]                  \n",
      "__________________________________________________________________________________________________\n",
      "dense_12 (Dense)                (None, 75, 1)        129         bidirectional_2[0][0]            \n",
      "__________________________________________________________________________________________________\n",
      "lambda_5 (Lambda)               (None, 75, 1)        0           dense_12[0][0]                   \n",
      "__________________________________________________________________________________________________\n",
      "flatten_5 (Flatten)             (None, 75)           0           lambda_5[0][0]                   \n",
      "__________________________________________________________________________________________________\n",
      "activation_3 (Activation)       (None, 75)           0           flatten_5[0][0]                  \n",
      "__________________________________________________________________________________________________\n",
      "repeat_vector_3 (RepeatVector)  (None, 64, 75)       0           activation_3[0][0]               \n",
      "__________________________________________________________________________________________________\n",
      "permute_3 (Permute)             (None, 75, 64)       0           repeat_vector_3[0][0]            \n",
      "__________________________________________________________________________________________________\n",
      "concatenate_3 (Concatenate)     (None, 75, 192)      0           bidirectional_2[0][0]            \n",
      "                                                                 permute_3[0][0]                  \n",
      "__________________________________________________________________________________________________\n",
      "lambda_6 (Lambda)               (None, 75, 192)      0           concatenate_3[0][0]              \n",
      "__________________________________________________________________________________________________\n",
      "flatten_6 (Flatten)             (None, 14400)        0           lambda_6[0][0]                   \n",
      "__________________________________________________________________________________________________\n",
      "dense_13 (Dense)                (None, 64)           921664      flatten_6[0][0]                  \n",
      "__________________________________________________________________________________________________\n",
      "dropout_8 (Dropout)             (None, 64)           0           dense_13[0][0]                   \n",
      "__________________________________________________________________________________________________\n",
      "dense_14 (Dense)                (None, 32)           2080        dropout_8[0][0]                  \n",
      "__________________________________________________________________________________________________\n",
      "dropout_9 (Dropout)             (None, 32)           0           dense_14[0][0]                   \n",
      "__________________________________________________________________________________________________\n",
      "dense_15 (Dense)                (None, 1)            33          dropout_9[0][0]                  \n",
      "==================================================================================================\n",
      "Total params: 1,103,874\n",
      "Trainable params: 1,103,874\n",
      "Non-trainable params: 0\n",
      "__________________________________________________________________________________________________\n"
     ]
    }
   ],
   "source": [
    "# build NN\n",
    "\n",
    "inputs = Input(shape=(75,))\n",
    "se1 = layers.Embedding(10000, 8, mask_zero=True)(inputs)\n",
    "se2 = layers.Dense(128, activation= 'relu')(se1)\n",
    "se3 = layers.Dropout(0.2)(se2)\n",
    "se4 = layers.Bidirectional(layers.LSTM(64, return_sequences=True, dropout=0.25, recurrent_dropout=0.25))(se3)\n",
    "\n",
    "attention = layers.Dense(1, activation='tanh')(se4)\n",
    "attention = layers.Lambda(lambda x: x, output_shape=lambda s:s)(attention)\n",
    "attention = layers.Flatten()(attention)\n",
    "attention = layers.Activation('softmax')(attention)\n",
    "attention = layers.RepeatVector(64)(attention)\n",
    "attention = layers.Permute([2, 1])(attention)\n",
    "\n",
    "att = layers.concatenate([se4, attention])\n",
    "att = layers.Lambda(lambda x: x, output_shape=lambda s:s)(att)\n",
    "att = layers.Flatten()(att)\n",
    "\n",
    "se4 = layers.Dense(64, activation='relu')(att)\n",
    "se5 = layers.Dropout(0.2)(se4)\n",
    "se6 = layers.Dense(32, activation='relu')(se5)\n",
    "se7 = layers.Dropout(0.2)(se6)\n",
    "output = layers.Dense(1, activation='sigmoid')(se7)\n",
    "model3 = Model(inputs=inputs, outputs=output)\n",
    "model3.compile(optimizer='adam', loss='mse')\n",
    "\n",
    "model3.summary()"
   ]
  },
  {
   "cell_type": "code",
   "execution_count": 8,
   "metadata": {},
   "outputs": [
    {
     "name": "stdout",
     "output_type": "stream",
     "text": [
      "Train on 13827 samples, validate on 3425 samples\n",
      "Epoch 1/10\n",
      "13827/13827 [==============================] - 13s 924us/step - loss: 0.2208 - val_loss: 0.1897\n",
      "\n",
      "Epoch 00001: val_loss improved from inf to 0.18967, saving model to /scratch/user/mahin/ANN/model/5-newdata/model-ep001-loss0.221-val_loss0.190.h5\n",
      "Epoch 2/10\n",
      "13827/13827 [==============================] - 11s 798us/step - loss: 0.1744 - val_loss: 0.1744\n",
      "\n",
      "Epoch 00002: val_loss improved from 0.18967 to 0.17442, saving model to /scratch/user/mahin/ANN/model/5-newdata/model-ep002-loss0.174-val_loss0.174.h5\n",
      "Epoch 3/10\n",
      "13827/13827 [==============================] - 11s 799us/step - loss: 0.1636 - val_loss: 0.1601\n",
      "\n",
      "Epoch 00003: val_loss improved from 0.17442 to 0.16015, saving model to /scratch/user/mahin/ANN/model/5-newdata/model-ep003-loss0.164-val_loss0.160.h5\n",
      "Epoch 4/10\n",
      "13827/13827 [==============================] - 11s 803us/step - loss: 0.1435 - val_loss: 0.1607\n",
      "\n",
      "Epoch 00004: val_loss did not improve from 0.16015\n",
      "Epoch 5/10\n",
      "13827/13827 [==============================] - 11s 800us/step - loss: 0.1315 - val_loss: 0.1483\n",
      "\n",
      "Epoch 00005: val_loss improved from 0.16015 to 0.14827, saving model to /scratch/user/mahin/ANN/model/5-newdata/model-ep005-loss0.132-val_loss0.148.h5\n",
      "Epoch 6/10\n",
      "13827/13827 [==============================] - 11s 802us/step - loss: 0.1181 - val_loss: 0.1598\n",
      "\n",
      "Epoch 00006: val_loss did not improve from 0.14827\n",
      "Epoch 7/10\n",
      "13827/13827 [==============================] - 11s 804us/step - loss: 0.1189 - val_loss: 0.1495\n",
      "\n",
      "Epoch 00007: val_loss did not improve from 0.14827\n",
      "Epoch 8/10\n",
      "13827/13827 [==============================] - 11s 800us/step - loss: 0.1024 - val_loss: 0.1562\n",
      "\n",
      "Epoch 00008: val_loss did not improve from 0.14827\n",
      "Epoch 9/10\n",
      "13827/13827 [==============================] - 11s 802us/step - loss: 0.1092 - val_loss: 0.1620\n",
      "\n",
      "Epoch 00009: val_loss did not improve from 0.14827\n",
      "Epoch 10/10\n",
      "13827/13827 [==============================] - 11s 795us/step - loss: 0.1025 - val_loss: 0.1456\n",
      "\n",
      "Epoch 00010: val_loss improved from 0.14827 to 0.14564, saving model to /scratch/user/mahin/ANN/model/5-newdata/model-ep010-loss0.103-val_loss0.146.h5\n"
     ]
    },
    {
     "data": {
      "text/plain": [
       "<matplotlib.legend.Legend at 0x2b8f92468550>"
      ]
     },
     "execution_count": 8,
     "metadata": {},
     "output_type": "execute_result"
    },
    {
     "data": {
      "image/png": "[encoded data removed]",
      "text/plain": [
       "<Figure size 432x288 with 1 Axes>"
      ]
     },
     "metadata": {
      "needs_background": "light"
     },
     "output_type": "display_data"
    }
   ],
   "source": [
    "# train NN3\n",
    "\n",
    "filepath = '/scratch/user/mahin/ANN/model/5-newdata/model-ep{epoch:03d}-loss{loss:.3f}-val_loss{val_loss:.3f}.h5'\n",
    "checkpoint = ModelCheckpoint(filepath, monitor='val_loss', verbose=1, save_best_only=True, mode='min')\n",
    "\n",
    "history3 = model3.fit(X_train, y_train, \n",
    "                      epochs=10, batch_size=256, \n",
    "                      verbose=1, callbacks=[checkpoint],\n",
    "                      validation_data=(X_val, y_val))\n",
    "\n",
    "# Show loss\n",
    "\n",
    "epochs = range(1,11)\n",
    "plt.plot(epochs, history3.history['loss'], 'b', label = 'training loss')\n",
    "plt.plot(epochs, history3.history['val_loss'], 'g', label = 'validation loss')\n",
    "plt.title('Training and validation requiremet loss')\n",
    "plt.ylabel('loss')\n",
    "plt.xlabel('epochs')\n",
    "plt.legend()"
   ]
  },
  {
   "cell_type": "code",
   "execution_count": 11,
   "metadata": {},
   "outputs": [
    {
     "name": "stdout",
     "output_type": "stream",
     "text": [
      "Epoch 1/5\n",
      "17252/17252 [==============================] - 14s 812us/step - loss: 0.2171\n",
      "Epoch 2/5\n",
      "17252/17252 [==============================] - 13s 728us/step - loss: 0.1555\n",
      "Epoch 3/5\n",
      "17252/17252 [==============================] - 13s 727us/step - loss: 0.1375\n",
      "Epoch 4/5\n",
      "17252/17252 [==============================] - 13s 726us/step - loss: 0.1259\n",
      "Epoch 5/5\n",
      "17252/17252 [==============================] - 12s 724us/step - loss: 0.1151\n"
     ]
    }
   ],
   "source": [
    "# train again with all data and 20 epoch\n",
    "X = np.concatenate((X_train, X_val), axis=0)\n",
    "y = np.concatenate((y_train, y_val))\n",
    "\n",
    "history3 = model3.fit(X, y, epochs=5, batch_size=256)\n",
    "\n",
    "model3.save('/scratch/user/mahin/ANN/model5.h5')"
   ]
  }
 ],
 "metadata": {
  "accelerator": "GPU",
  "colab": {
   "collapsed_sections": [],
   "name": "model.ipynb",
   "provenance": []
  },
  "kernelspec": {
   "display_name": "Python 3",
   "language": "python",
   "name": "python3"
  },
  "language_info": {
   "codemirror_mode": {
    "name": "ipython",
    "version": 3
   },
   "file_extension": ".py",
   "mimetype": "text/x-python",
   "name": "python",
   "nbconvert_exporter": "python",
   "pygments_lexer": "ipython3",
   "version": "3.8.2"
  }
 },
 "nbformat": 4,
 "nbformat_minor": 1
}

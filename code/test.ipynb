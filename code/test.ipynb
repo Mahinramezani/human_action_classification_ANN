{
  "nbformat": 4,
  "nbformat_minor": 0,
  "metadata": {
    "colab": {
      "name": "test.ipynb",
      "provenance": [],
      "collapsed_sections": []
    },
    "kernelspec": {
      "name": "python3",
      "display_name": "Python 3"
    },
    "accelerator": "GPU"
  },
  "cells": [
    {
      "cell_type": "code",
      "metadata": {
        "id": "5X-HaBNeYQ_1",
        "colab_type": "code",
        "outputId": "15bfbfa2-fe6f-4cac-9bae-c96111e90e48",
        "colab": {
          "base_uri": "https://localhost:8080/",
          "height": 105
        }
      },
      "source": [
        "%tensorflow_version 1.14"
      ],
      "execution_count": 0,
      "outputs": [
        {
          "output_type": "stream",
          "text": [
            "`%tensorflow_version` only switches the major version: 1.x or 2.x.\n",
            "You set: `1.14`. This will be interpreted as: `1.x`.\n",
            "\n",
            "\n",
            "TensorFlow is already loaded. Please restart the runtime to change versions.\n"
          ],
          "name": "stdout"
        }
      ]
    },
    {
      "cell_type": "code",
      "metadata": {
        "id": "RDO80Qq9vuKt",
        "colab_type": "code",
        "outputId": "6b2ddd75-77e2-4548-d57a-ac864f38bac6",
        "colab": {
          "base_uri": "https://localhost:8080/",
          "height": 34
        }
      },
      "source": [
        "import os\n",
        "import json\n",
        "import numpy as np\n",
        "from keras.models import load_model\n",
        "import matplotlib.pyplot as plt\n",
        "from google.colab import drive\n",
        "drive.mount('/content/drive')"
      ],
      "execution_count": 0,
      "outputs": [
        {
          "output_type": "stream",
          "text": [
            "Drive already mounted at /content/drive; to attempt to forcibly remount, call drive.mount(\"/content/drive\", force_remount=True).\n"
          ],
          "name": "stdout"
        }
      ]
    },
    {
      "cell_type": "code",
      "metadata": {
        "id": "5CADPHL34Yp7",
        "colab_type": "code",
        "colab": {}
      },
      "source": [
        "# Install OpenPose\n",
        "\n",
        "import os\n",
        "from os.path import exists, join, basename, splitext\n",
        "\n",
        "git_repo_url = 'https://github.com/CMU-Perceptual-Computing-Lab/openpose.git'\n",
        "project_name = splitext(basename(git_repo_url))[0]\n",
        "if not exists(project_name):\n",
        "  # see: https://github.com/CMU-Perceptual-Computing-Lab/openpose/issues/949\n",
        "  # install new CMake becaue of CUDA10\n",
        "  !wget -q https://cmake.org/files/v3.13/cmake-3.13.0-Linux-x86_64.tar.gz\n",
        "  !tar xfz cmake-3.13.0-Linux-x86_64.tar.gz --strip-components=1 -C /usr/local\n",
        "  # clone openpose\n",
        "  !git clone -q --depth 1 $git_repo_url\n",
        "  !sed -i 's/execute_process(COMMAND git checkout master WORKING_DIRECTORY ${CMAKE_SOURCE_DIR}\\/3rdparty\\/caffe)/execute_process(COMMAND git checkout f019d0dfe86f49d1140961f8c7dec22130c83154 WORKING_DIRECTORY ${CMAKE_SOURCE_DIR}\\/3rdparty\\/caffe)/g' openpose/CMakeLists.txt\n",
        "  # install system dependencies\n",
        "  !apt-get -qq install -y libatlas-base-dev libprotobuf-dev libleveldb-dev libsnappy-dev libhdf5-serial-dev protobuf-compiler libgflags-dev libgoogle-glog-dev liblmdb-dev opencl-headers ocl-icd-opencl-dev libviennacl-dev\n",
        "  # install python dependencies\n",
        "  !pip install -q youtube-dl\n",
        "  # build openpose\n",
        "  !cd openpose && rm -rf build || true && mkdir build && cd build && cmake .. && make -j`nproc`"
      ],
      "execution_count": 0,
      "outputs": []
    },
    {
      "cell_type": "code",
      "metadata": {
        "id": "9RpfDlZA-Q28",
        "colab_type": "code",
        "colab": {}
      },
      "source": [
        "# delete directory\n",
        "filename = '/content/drive/My Drive/Colab Notebooks/ANN/test_openpose/'\n",
        "\n",
        "if os.path.exists(filename):\n",
        "    os.rmdir(filename)"
      ],
      "execution_count": 0,
      "outputs": []
    },
    {
      "cell_type": "code",
      "metadata": {
        "id": "qqJVYQaqKk--",
        "colab_type": "code",
        "outputId": "755d4056-74a2-49e1-82ff-40911f3d574a",
        "colab": {
          "base_uri": "https://localhost:8080/",
          "height": 102
        }
      },
      "source": [
        "# get body landmarks using open pose\n",
        "!cd openpose && ./build/examples/openpose/openpose.bin --video /content/drive/My\\ Drive/Colab\\ Notebooks/ANN/data/pick-ixmas/pick37.avi --write_json /content/drive/My\\ Drive/Colab\\ Notebooks/ANN/test_openpose1/ --display 0 --render_pose 0"
      ],
      "execution_count": 0,
      "outputs": [
        {
          "output_type": "stream",
          "text": [
            "Starting OpenPose demo...\n",
            "Configuring OpenPose...\n",
            "Starting thread(s)...\n",
            "Auto-detecting all available GPUs... Detected 1 GPU(s), using 1 of them starting at GPU 0.\n",
            "OpenPose demo successfully finished. Total time: 5.686817 seconds.\n"
          ],
          "name": "stdout"
        }
      ]
    },
    {
      "cell_type": "code",
      "metadata": {
        "id": "hzziGadhv85j",
        "colab_type": "code",
        "colab": {}
      },
      "source": [
        "path = '/content/drive/My Drive/Colab Notebooks/ANN/test_openpose/'\n",
        "model = load_model('/content/drive/My Drive/Colab Notebooks/ANN/model2.h5')\n",
        "\n",
        "def test_prepare_data(file_name, path):\n",
        "  d = list()\n",
        "  for file in os.listdir(path):\n",
        "    if file.startswith(file_name + '_'):\n",
        "      with open(os.path.join(path, file)) as f_json:\n",
        "        df = json.load(f_json)\n",
        "        if (df['people'] != []):\n",
        "          keypoints = df['people'][0]['pose_keypoints_2d']\n",
        "          d.append(keypoints)\n",
        "  return d\n",
        "\n",
        "def testing(file_name):\n",
        "  test = np.array(test_prepare_data(file_name, path))\n",
        "  X_test = np.array(test)\n",
        "  print(\"X_test shape = %s\"%(str(X_test.shape)))\n",
        "  y_hat = model.predict(X_test)\n",
        "  print(\"y_hat shape = %s\"%(str(y_hat.shape)))\n",
        "\n",
        "  # show the figure\n",
        "  frames = range(0, X_test.shape[0])\n",
        "  plt.plot(frames, y_hat, 'bo')\n",
        "  plt.ylabel('Label')\n",
        "  plt.xlabel('time(frame number)')\n",
        "  plt.ylim([-0.2 , 1.2])\n",
        "  plt.legend()\n",
        "\n",
        "  # create json file\n",
        "  y_j = 0\n",
        "  for i in range(len(y_hat)):\n",
        "    if y_hat[i] > 0.7 and min(y_hat[i+1 : i + 15] > 0.7):\n",
        "      y_j = max(y_hat[i : i + 15]) \n",
        "\n",
        "  if (y_j > 0): \n",
        "    j_dict = {\"pick up\": [0, float(y_j)] }\n",
        "  else:\n",
        "    j_dict = {\"pick up\": [0, float(y_hat[0])] }\n",
        "\n",
        "  print(j_dict)\n",
        "  return j_dict\n"
      ],
      "execution_count": 0,
      "outputs": []
    },
    {
      "cell_type": "code",
      "metadata": {
        "id": "osqatJKcndC-",
        "colab_type": "code",
        "outputId": "8eb9b8fe-bc7f-4083-aaef-05a5b2e7bfb3",
        "colab": {
          "base_uri": "https://localhost:8080/",
          "height": 354
        }
      },
      "source": [
        "# test1\n",
        "\n",
        "file_name = 'pick37'\n",
        "j_dict = testing(file_name)\n",
        "\n",
        "with open(os.path.join(path, file_name + '.json'), 'w') as fp:\n",
        "    json.dump(j_dict, fp,  indent=4)"
      ],
      "execution_count": 0,
      "outputs": [
        {
          "output_type": "stream",
          "text": [
            "X_test shape = (52, 75)\n"
          ],
          "name": "stdout"
        },
        {
          "output_type": "stream",
          "text": [
            "No handles with labels found to put in legend.\n"
          ],
          "name": "stderr"
        },
        {
          "output_type": "stream",
          "text": [
            "y_hat shape = (52, 1)\n",
            "{'pick up': [0, 0.999976396560669]}\n"
          ],
          "name": "stdout"
        },
        {
          "output_type": "display_data",
          "data": {
            "image/png": "[encoded data removed]",
            "text/plain": [
              "<Figure size 432x288 with 1 Axes>"
            ]
          },
          "metadata": {
            "tags": []
          }
        }
      ]
    },
    {
      "cell_type": "code",
      "metadata": {
        "id": "32BpTWv440Cp",
        "colab_type": "code",
        "outputId": "7bf11e66-3b72-4ec2-d2ac-31913cc6db99",
        "colab": {
          "base_uri": "https://localhost:8080/",
          "height": 354
        }
      },
      "source": [
        "# test1\n",
        "\n",
        "file_name = 'pick37'\n",
        "j_dict = testing(file_name)\n",
        "\n",
        "with open(os.path.join(path, file_name + '.json'), 'w') as fp:\n",
        "    json.dump(j_dict, fp,  indent=4)"
      ],
      "execution_count": 0,
      "outputs": [
        {
          "output_type": "stream",
          "text": [
            "X_test shape = (52, 75)\n"
          ],
          "name": "stdout"
        },
        {
          "output_type": "stream",
          "text": [
            "No handles with labels found to put in legend.\n"
          ],
          "name": "stderr"
        },
        {
          "output_type": "stream",
          "text": [
            "y_hat shape = (52, 1)\n",
            "{'pick up': [0, 0.15633746981620789]}\n"
          ],
          "name": "stdout"
        },
        {
          "output_type": "display_data",
          "data": {
            "image/png": "[encoded data removed]",
            "text/plain": [
              "<Figure size 432x288 with 1 Axes>"
            ]
          },
          "metadata": {
            "tags": []
          }
        }
      ]
    },
    {
      "cell_type": "code",
      "metadata": {
        "id": "CPiJqq7lKakv",
        "colab_type": "code",
        "outputId": "1072afc1-f51c-4f80-9807-6551b7e7cdfd",
        "colab": {
          "base_uri": "https://localhost:8080/",
          "height": 354
        }
      },
      "source": [
        "# test2\n",
        "\n",
        "file_name = 'wave36'\n",
        "j_dict = testing(file_name)\n",
        "\n",
        "with open(os.path.join(path, file_name + '.json'), 'w') as fp:\n",
        "    json.dump(j_dict, fp,  indent=4)"
      ],
      "execution_count": 0,
      "outputs": [
        {
          "output_type": "stream",
          "text": [
            "No handles with labels found to put in legend.\n"
          ],
          "name": "stderr"
        },
        {
          "output_type": "stream",
          "text": [
            "X_test shape = (57, 75)\n",
            "y_hat shape = (57, 1)\n",
            "{'pick up': [0, 0.044221073389053345]}\n"
          ],
          "name": "stdout"
        },
        {
          "output_type": "display_data",
          "data": {
            "image/png": "[encoded data removed]",
            "text/plain": [
              "<Figure size 432x288 with 1 Axes>"
            ]
          },
          "metadata": {
            "tags": []
          }
        }
      ]
    },
    {
      "cell_type": "code",
      "metadata": {
        "id": "T135LjzXKzqp",
        "colab_type": "code",
        "outputId": "603d0d2e-43e2-434d-8292-3542c8b3d7e4",
        "colab": {
          "base_uri": "https://localhost:8080/",
          "height": 354
        }
      },
      "source": [
        "# test3\n",
        "\n",
        "file_name = 'pick38'\n",
        "j_dict = testing(file_name)\n",
        "\n",
        "with open(os.path.join(path, file_name + '.json'), 'w') as fp:\n",
        "    json.dump(j_dict, fp,  indent=4)"
      ],
      "execution_count": 0,
      "outputs": [
        {
          "output_type": "stream",
          "text": [
            "No handles with labels found to put in legend.\n"
          ],
          "name": "stderr"
        },
        {
          "output_type": "stream",
          "text": [
            "X_test shape = (49, 75)\n",
            "y_hat shape = (49, 1)\n",
            "{'pick up': [0, 0.02367919683456421]}\n"
          ],
          "name": "stdout"
        },
        {
          "output_type": "display_data",
          "data": {
            "image/png": "[encoded data removed]",
            "text/plain": [
              "<Figure size 432x288 with 1 Axes>"
            ]
          },
          "metadata": {
            "tags": []
          }
        }
      ]
    },
    {
      "cell_type": "code",
      "metadata": {
        "id": "d8BiUeQLK0V1",
        "colab_type": "code",
        "outputId": "614916d6-463f-4801-fce3-b136de0ffbf5",
        "colab": {
          "base_uri": "https://localhost:8080/",
          "height": 354
        }
      },
      "source": [
        "# test4\n",
        "\n",
        "file_name = 'wave37'\n",
        "j_dict = testing(file_name)\n",
        "\n",
        "with open(os.path.join(path, file_name + '.json'), 'w') as fp:\n",
        "    json.dump(j_dict, fp,  indent=4)"
      ],
      "execution_count": 0,
      "outputs": [
        {
          "output_type": "stream",
          "text": [
            "No handles with labels found to put in legend.\n"
          ],
          "name": "stderr"
        },
        {
          "output_type": "stream",
          "text": [
            "X_test shape = (57, 75)\n",
            "y_hat shape = (57, 1)\n",
            "{'pick up': [0, 0.06346908211708069]}\n"
          ],
          "name": "stdout"
        },
        {
          "output_type": "display_data",
          "data": {
            "image/png": "[encoded data removed]",
            "text/plain": [
              "<Figure size 432x288 with 1 Axes>"
            ]
          },
          "metadata": {
            "tags": []
          }
        }
      ]
    },
    {
      "cell_type": "code",
      "metadata": {
        "id": "pSMuV-dVK0h4",
        "colab_type": "code",
        "outputId": "96fdeffc-59a4-4386-8969-7fffa987a2d3",
        "colab": {
          "base_uri": "https://localhost:8080/",
          "height": 354
        }
      },
      "source": [
        "# test5\n",
        "\n",
        "file_name = 'pick39'\n",
        "j_dict = testing(file_name)\n",
        "\n",
        "with open(os.path.join(path, file_name + '.json'), 'w') as fp:\n",
        "    json.dump(j_dict, fp,  indent=4)"
      ],
      "execution_count": 0,
      "outputs": [
        {
          "output_type": "stream",
          "text": [
            "No handles with labels found to put in legend.\n"
          ],
          "name": "stderr"
        },
        {
          "output_type": "stream",
          "text": [
            "X_test shape = (49, 75)\n",
            "y_hat shape = (49, 1)\n",
            "{'pick up': [0, 0.47701793909072876]}\n"
          ],
          "name": "stdout"
        },
        {
          "output_type": "display_data",
          "data": {
            "image/png": "[encoded data removed]",
            "text/plain": [
              "<Figure size 432x288 with 1 Axes>"
            ]
          },
          "metadata": {
            "tags": []
          }
        }
      ]
    }
  ]
}
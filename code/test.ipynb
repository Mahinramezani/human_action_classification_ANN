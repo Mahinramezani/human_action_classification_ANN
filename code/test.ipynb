{
 "cells": [
  {
   "cell_type": "code",
   "execution_count": 2,
   "metadata": {},
   "outputs": [
    {
     "name": "stderr",
     "output_type": "stream",
     "text": [
      "Using TensorFlow backend.\n"
     ]
    }
   ],
   "source": [
    "import os\n",
    "import json\n",
    "import numpy as np\n",
    "import matplotlib.pyplot as plt\n",
    "from keras.models import load_model"
   ]
  },
  {
   "cell_type": "code",
   "execution_count": null,
   "metadata": {},
   "outputs": [],
   "source": [
    "# Install OpenPose\n",
    "\n",
    "import os\n",
    "from os.path import exists, join, basename, splitext\n",
    "\n",
    "git_repo_url = 'https://github.com/CMU-Perceptual-Computing-Lab/openpose.git'\n",
    "project_name = splitext(basename(git_repo_url))[0]\n",
    "if not exists(project_name):\n",
    "  # see: https://github.com/CMU-Perceptual-Computing-Lab/openpose/issues/949\n",
    "  # install new CMake becaue of CUDA10\n",
    "  !wget -q https://cmake.org/files/v3.13/cmake-3.13.0-Linux-x86_64.tar.gz\n",
    "  !tar xfz cmake-3.13.0-Linux-x86_64.tar.gz --strip-components=1 -C /usr/local\n",
    "  # clone openpose\n",
    "  !git clone -q --depth 1 $git_repo_url\n",
    "  !sed -i 's/execute_process(COMMAND git checkout master WORKING_DIRECTORY ${CMAKE_SOURCE_DIR}\\/3rdparty\\/caffe)/execute_process(COMMAND git checkout f019d0dfe86f49d1140961f8c7dec22130c83154 WORKING_DIRECTORY ${CMAKE_SOURCE_DIR}\\/3rdparty\\/caffe)/g' openpose/CMakeLists.txt\n",
    "  # install system dependencies\n",
    "  !apt-get -qq install -y libatlas-base-dev libprotobuf-dev libleveldb-dev libsnappy-dev libhdf5-serial-dev protobuf-compiler libgflags-dev libgoogle-glog-dev liblmdb-dev opencl-headers ocl-icd-opencl-dev libviennacl-dev\n",
    "  # install python dependencies\n",
    "  !pip install -q youtube-dl\n",
    "  # build openpose\n",
    "  !cd openpose && rm -rf build || true && mkdir build && cd build && cmake .. && make -j`nproc`"
   ]
  },
  {
   "cell_type": "code",
   "execution_count": 0,
   "metadata": {
    "colab": {},
    "colab_type": "code",
    "collapsed": true,
    "id": "3l_sRbkpVKT_"
   },
   "outputs": [],
   "source": [
    "# delete directory\n",
    "filename = '/content/drive/My Drive/Colab Notebooks/ANN/test_openpose/'\n",
    "\n",
    "if os.path.exists(filename):\n",
    "    os.rmdir(filename)"
   ]
  },
  {
   "cell_type": "code",
   "execution_count": 25,
   "metadata": {
    "colab": {
     "base_uri": "https://localhost:8080/",
     "height": 105
    },
    "colab_type": "code",
    "id": "qqJVYQaqKk--",
    "outputId": "584efb4a-9462-47f5-c0fb-01bdf856f698"
   },
   "outputs": [
    {
     "name": "stdout",
     "output_type": "stream",
     "text": [
      "Starting OpenPose demo...\n",
      "Configuring OpenPose...\n",
      "Starting thread(s)...\n",
      "Auto-detecting all available GPUs... Detected 1 GPU(s), using 1 of them starting at GPU 0.\n",
      "OpenPose demo successfully finished. Total time: 27.068344 seconds.\n"
     ]
    }
   ],
   "source": [
    "# get body landmarks using open pose\n",
    "!cd openpose && ./build/examples/openpose/openpose.bin --video /content/drive/My\\ Drive/Colab\\ Notebooks/ANN/11/test5.mp4 --write_json /content/drive/My\\ Drive/Colab\\ Notebooks/ANN/test_openpose1/ --display 0 --render_pose 0"
   ]
  },
  {
   "cell_type": "code",
   "execution_count": 3,
   "metadata": {
    "colab": {},
    "colab_type": "code",
    "id": "hzziGadhv85j"
   },
   "outputs": [
    {
     "name": "stderr",
     "output_type": "stream",
     "text": [
      "/scratch/user/mahin/.conda/envs/my_env/lib/python3.8/site-packages/tensorflow/python/framework/indexed_slices.py:433: UserWarning: Converting sparse IndexedSlices to a dense Tensor of unknown shape. This may consume a large amount of memory.\n",
      "  warnings.warn(\n"
     ]
    }
   ],
   "source": [
    "path = '/scratch/user/mahin/ANN/test/'\n",
    "model = load_model('/scratch/user/mahin/ANN/model5.h5')\n",
    "\n",
    "def test_prepare_data(file_name, path):\n",
    "    d = list()\n",
    "    for file in os.listdir(path):\n",
    "        if file.startswith(file_name + '_'):\n",
    "            with open(os.path.join(path, file)) as f_json:\n",
    "                df = json.load(f_json)\n",
    "                if (df['people'] != []):\n",
    "                    keypoints = df['people'][0]['pose_keypoints_2d']\n",
    "                    d.append(keypoints)\n",
    "    return d\n",
    "\n",
    "def testing(file_name, n_sec):\n",
    "    test = np.array(test_prepare_data(file_name, path))\n",
    "    X_test = np.array(test)\n",
    "    print(\"X_test shape = %s\"%(str(X_test.shape)))\n",
    "    y_hat = model.predict(X_test)\n",
    "    print(\"y_hat shape = %s\"%(str(y_hat.shape)))\n",
    "\n",
    "    frame_per_sec = int(np.ceil(y_hat.shape[0] / n_sec))\n",
    "    print(frame_per_sec)\n",
    "    arr1 = y_hat[0:(n_sec - 1) * frame_per_sec]\n",
    "    arr2 = y_hat[(n_sec - 1) * frame_per_sec:]\n",
    "    arr1 = arr1.reshape(n_sec - 1, frame_per_sec)\n",
    "    \n",
    "    th = 0.8\n",
    "    th2 = 0.7\n",
    "    y_hat_class = np.zeros(n_sec)\n",
    "    for m in range(arr1.shape[0]):\n",
    "        a = arr1[m]\n",
    "        aa = a[a > th]\n",
    "        aaa = a[a > th2]    \n",
    "        if aa.shape[0] >= (frame_per_sec * 0.2):\n",
    "            y_hat_class[m] = np.mean(a[a > 0.5])\n",
    "        elif aaa.shape[0] >= (frame_per_sec * 0.7):\n",
    "            y_hat_class[m] = np.mean(a[a > 0.5])\n",
    "            \n",
    "        if(m == arr1.shape[0] - 1):\n",
    "            a = arr2\n",
    "            aa = a[a > th]\n",
    "            aaa = a[a > th2]    \n",
    "            if aa.shape[0] >= (arr2.shape[0] * 0.25):\n",
    "                y_hat_class[m + 1] = np.mean(a[a > 0.5])\n",
    "            elif aaa.shape[0] >= (arr2.shape[0] * 0.8):\n",
    "                y_hat_class[m + 1] = np.mean(a[a > 0.5])\n",
    "    \n",
    "    # show the figure\n",
    "    sec = range(0, n_sec)\n",
    "    plt.plot(sec, y_hat_class, 'b') #################\n",
    "    plt.ylabel('Label')\n",
    "    plt.xlabel('time')\n",
    "    plt.ylim([-0.1 , 1.1])\n",
    "    plt.legend()\n",
    "\n",
    "    # create json file\n",
    "    y_j = 0\n",
    "    p_list = []\n",
    "    for i in range(len(y_hat_class)):\n",
    "        if y_hat_class[i] > 0:\n",
    "            y_j += 1\n",
    "            prob = 0\n",
    "            n = 0\n",
    "            if i != len(y_hat_class) - 1:\n",
    "                for j in (arr1[i]):\n",
    "                    if j > th2:\n",
    "                        prob = prob + j\n",
    "                        n = n + 1\n",
    "            else:\n",
    "                for j in (arr2):\n",
    "                    if j > th2:\n",
    "                        prob = prob + j\n",
    "                        n = n + 1\n",
    "            prob = prob / n\n",
    "            p_list.append([i, float(prob)])\n",
    "            \n",
    "    if (y_j > 0): \n",
    "        j_dict = {\"pick up\": p_list}\n",
    "    else:\n",
    "        j_dict = {\"pick up\": [0, float(y_hat[0])] }\n",
    "\n",
    "    print(j_dict)\n",
    "    return j_dict\n"
   ]
  },
  {
   "cell_type": "code",
   "execution_count": 4,
   "metadata": {
    "colab": {
     "base_uri": "https://localhost:8080/",
     "height": 374
    },
    "colab_type": "code",
    "id": "Jd6m2Xe3gIc7",
    "outputId": "38d7238c-8f89-47b3-a731-a2d415d18782"
   },
   "outputs": [
    {
     "name": "stdout",
     "output_type": "stream",
     "text": [
      "X_test shape = (4190, 75)\n"
     ]
    },
    {
     "name": "stderr",
     "output_type": "stream",
     "text": [
      "No handles with labels found to put in legend.\n"
     ]
    },
    {
     "name": "stdout",
     "output_type": "stream",
     "text": [
      "y_hat shape = (4190, 1)\n",
      "30\n",
      "{'pick up': [[1, 0.8566888749599457], [6, 0.861118346452713], [14, 0.8815808355808258], [17, 0.8727693796157837], [22, 0.839241604010264], [27, 0.8607009887695313], [30, 0.8647863354001727], [32, 0.8542222827672958], [33, 0.8640205595228407], [36, 0.8577956333756447], [37, 0.9122944133622306], [38, 0.8859366973241171], [41, 0.880918487906456], [42, 0.8327587892611822], [45, 0.9088061650594076], [53, 0.8768256562096732], [54, 0.8587494161393907], [57, 0.8455079860157437], [69, 0.8738274318831307], [70, 0.8658793568611145], [73, 0.8459465437465243], [75, 0.8195498910817233], [77, 0.87318188448747], [78, 0.8279852054335854], [81, 0.8427944481372833], [82, 0.8879310233252389], [85, 0.8411210046874152], [87, 0.880225488117763], [88, 0.8383742094039917], [89, 0.8671780675649643], [90, 0.9295335561037064], [93, 0.8499922379851341], [95, 0.8921220600605011], [99, 0.8515738427639008], [102, 0.882842630147934], [103, 0.9039257935115269], [106, 0.8542412370443344], [108, 0.8470372185111046], [111, 0.8740894893805186], [113, 0.8820210099220276], [117, 0.8603378401862251], [118, 0.8779818962017695], [122, 0.903437651693821], [123, 0.8609149952729543], [128, 0.8614122271537781], [130, 0.8373835351732042], [132, 0.844113654560513], [134, 0.8372617628839281], [138, 0.8433564702669779]]}\n"
     ]
    },
    {
     "data": {
      "image/png": "[encoded data removed]",
      "text/plain": [
       "<Figure size 432x288 with 1 Axes>"
      ]
     },
     "metadata": {
      "needs_background": "light"
     },
     "output_type": "display_data"
    }
   ],
   "source": [
    "# test\n",
    "\n",
    "file_name = '8_actions'\n",
    "n_sec = 140   # enter the length of video (sec)\n",
    "j_dict = testing(file_name, n_sec)\n",
    "\n",
    "with open(os.path.join(path, file_name + '.json'), 'w') as fp:\n",
    "    json.dump(j_dict, fp,  indent=4)"
   ]
  },
  {
   "cell_type": "code",
   "execution_count": 10,
   "metadata": {
    "colab": {
     "base_uri": "https://localhost:8080/",
     "height": 354
    },
    "colab_type": "code",
    "id": "osqatJKcndC-",
    "outputId": "88c6ce7c-83e5-4080-e444-728774dc9973"
   },
   "outputs": [
    {
     "name": "stderr",
     "output_type": "stream",
     "text": [
      "No handles with labels found to put in legend.\n"
     ]
    },
    {
     "name": "stdout",
     "output_type": "stream",
     "text": [
      "X_test shape = (52, 75)\n",
      "y_hat shape = (52, 1)\n",
      "18\n",
      "{'pick up': [[0, 0.8861794425890996], [1, 0.8928882479667664], [2, 0.9074667096138]]}\n"
     ]
    },
    {
     "data": {
      "image/png": "[encoded data removed]",
      "text/plain": [
       "<Figure size 432x288 with 1 Axes>"
      ]
     },
     "metadata": {
      "needs_background": "light"
     },
     "output_type": "display_data"
    }
   ],
   "source": [
    "# test1\n",
    "\n",
    "file_name = 'pick37'\n",
    "n_sec = 3\n",
    "j_dict = testing(file_name, n_sec)\n",
    "\n",
    "with open(os.path.join(path, file_name + '.json'), 'w') as fp:\n",
    "    json.dump(j_dict, fp,  indent=4)"
   ]
  },
  {
   "cell_type": "code",
   "execution_count": 9,
   "metadata": {
    "colab": {
     "base_uri": "https://localhost:8080/",
     "height": 354
    },
    "colab_type": "code",
    "id": "CPiJqq7lKakv",
    "outputId": "ff49b479-6146-4b80-f504-d973f7f1aa98"
   },
   "outputs": [
    {
     "name": "stderr",
     "output_type": "stream",
     "text": [
      "No handles with labels found to put in legend.\n"
     ]
    },
    {
     "name": "stdout",
     "output_type": "stream",
     "text": [
      "X_test shape = (57, 75)\n",
      "y_hat shape = (57, 1)\n",
      "29\n",
      "{'pick up': [0, 0.2856084704399109]}\n"
     ]
    },
    {
     "data": {
      "image/png": "[encoded data removed]",
      "text/plain": [
       "<Figure size 432x288 with 1 Axes>"
      ]
     },
     "metadata": {
      "needs_background": "light"
     },
     "output_type": "display_data"
    }
   ],
   "source": [
    "# test2\n",
    "\n",
    "file_name = 'wave36'\n",
    "n_sec = 2\n",
    "j_dict = testing(file_name, n_sec)\n",
    "\n",
    "with open(os.path.join(path, file_name + '.json'), 'w') as fp:\n",
    "    json.dump(j_dict, fp,  indent=4)"
   ]
  },
  {
   "cell_type": "code",
   "execution_count": 8,
   "metadata": {
    "colab": {
     "base_uri": "https://localhost:8080/",
     "height": 354
    },
    "colab_type": "code",
    "id": "T135LjzXKzqp",
    "outputId": "0031133b-6db4-44db-d24e-f5e46e4efdb0"
   },
   "outputs": [
    {
     "name": "stderr",
     "output_type": "stream",
     "text": [
      "No handles with labels found to put in legend.\n"
     ]
    },
    {
     "name": "stdout",
     "output_type": "stream",
     "text": [
      "X_test shape = (49, 75)\n",
      "y_hat shape = (49, 1)\n",
      "25\n",
      "{'pick up': [[0, 0.8931205456073468], [1, 0.9027007222175598]]}\n"
     ]
    },
    {
     "data": {
      "image/png": "[encoded data removed]",
      "text/plain": [
       "<Figure size 432x288 with 1 Axes>"
      ]
     },
     "metadata": {
      "needs_background": "light"
     },
     "output_type": "display_data"
    }
   ],
   "source": [
    "# test3\n",
    "\n",
    "file_name = 'pick38'\n",
    "n_sec = 2\n",
    "j_dict = testing(file_name, n_sec)\n",
    "\n",
    "with open(os.path.join(path, file_name + '.json'), 'w') as fp:\n",
    "    json.dump(j_dict, fp,  indent=4)"
   ]
  },
  {
   "cell_type": "code",
   "execution_count": 7,
   "metadata": {
    "colab": {
     "base_uri": "https://localhost:8080/",
     "height": 354
    },
    "colab_type": "code",
    "id": "d8BiUeQLK0V1",
    "outputId": "f03a1519-f2d8-4de1-e08e-d8903102f4d4"
   },
   "outputs": [
    {
     "name": "stderr",
     "output_type": "stream",
     "text": [
      "No handles with labels found to put in legend.\n"
     ]
    },
    {
     "name": "stdout",
     "output_type": "stream",
     "text": [
      "X_test shape = (57, 75)\n",
      "y_hat shape = (57, 1)\n",
      "19\n",
      "{'pick up': [0, 0.15993213653564453]}\n"
     ]
    },
    {
     "data": {
      "image/png": "[encoded data removed]",
      "text/plain": [
       "<Figure size 432x288 with 1 Axes>"
      ]
     },
     "metadata": {
      "needs_background": "light"
     },
     "output_type": "display_data"
    }
   ],
   "source": [
    "# test4\n",
    "\n",
    "file_name = 'wave37'\n",
    "n_sec = 3\n",
    "j_dict = testing(file_name, n_sec)\n",
    "\n",
    "with open(os.path.join(path, file_name + '.json'), 'w') as fp:\n",
    "    json.dump(j_dict, fp,  indent=4)"
   ]
  },
  {
   "cell_type": "code",
   "execution_count": 6,
   "metadata": {
    "colab": {
     "base_uri": "https://localhost:8080/",
     "height": 354
    },
    "colab_type": "code",
    "id": "pSMuV-dVK0h4",
    "outputId": "114fd300-ded1-4b49-f077-6cc28331422f"
   },
   "outputs": [
    {
     "name": "stderr",
     "output_type": "stream",
     "text": [
      "No handles with labels found to put in legend.\n"
     ]
    },
    {
     "name": "stdout",
     "output_type": "stream",
     "text": [
      "X_test shape = (49, 75)\n",
      "y_hat shape = (49, 1)\n",
      "25\n",
      "{'pick up': [[0, 0.8813172847032547], [1, 0.8838635683059692]]}\n"
     ]
    },
    {
     "data": {
      "image/png": "[encoded data removed]",
      "text/plain": [
       "<Figure size 432x288 with 1 Axes>"
      ]
     },
     "metadata": {
      "needs_background": "light"
     },
     "output_type": "display_data"
    }
   ],
   "source": [
    "# test5\n",
    "\n",
    "file_name = 'pick39'\n",
    "n_sec = 2\n",
    "j_dict = testing(file_name, n_sec)\n",
    "\n",
    "with open(os.path.join(path, file_name + '.json'), 'w') as fp:\n",
    "    json.dump(j_dict, fp,  indent=4)"
   ]
  },
  {
   "cell_type": "code",
   "execution_count": 5,
   "metadata": {
    "colab": {},
    "colab_type": "code",
    "id": "75Jb3-bHWwq8"
   },
   "outputs": [
    {
     "name": "stderr",
     "output_type": "stream",
     "text": [
      "No handles with labels found to put in legend.\n"
     ]
    },
    {
     "name": "stdout",
     "output_type": "stream",
     "text": [
      "X_test shape = (305, 75)\n",
      "y_hat shape = (305, 1)\n",
      "24\n",
      "{'pick up': [[0, 0.8208700087335374], [1, 0.8533695638179779], [2, 0.9200790013585772], [7, 0.8694588797433036], [9, 0.8792430087924004], [10, 0.8796533942222595], [11, 0.8817434642050002]]}\n"
     ]
    },
    {
     "data": {
      "image/png": "[encoded data removed]",
      "text/plain": [
       "<Figure size 432x288 with 1 Axes>"
      ]
     },
     "metadata": {
      "needs_background": "light"
     },
     "output_type": "display_data"
    }
   ],
   "source": [
    "# test 6\n",
    "\n",
    "file_name = 'test2'\n",
    "n_sec = 13\n",
    "j_dict = testing(file_name, n_sec)\n",
    "\n",
    "with open(os.path.join(path, file_name + '.json'), 'w') as fp:\n",
    "    json.dump(j_dict, fp,  indent=4)"
   ]
  }
 ],
 "metadata": {
  "accelerator": "GPU",
  "colab": {
   "collapsed_sections": [],
   "name": "test.ipynb",
   "provenance": []
  },
  "kernelspec": {
   "display_name": "Python 3",
   "language": "python",
   "name": "python3"
  },
  "language_info": {
   "codemirror_mode": {
    "name": "ipython",
    "version": 3
   },
   "file_extension": ".py",
   "mimetype": "text/x-python",
   "name": "python",
   "nbconvert_exporter": "python",
   "pygments_lexer": "ipython3",
   "version": "3.8.2"
  }
 },
 "nbformat": 4,
 "nbformat_minor": 1
}

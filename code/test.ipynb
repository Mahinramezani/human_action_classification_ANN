{
  "nbformat": 4,
  "nbformat_minor": 0,
  "metadata": {
    "colab": {
      "name": "test.ipynb",
      "provenance": [],
      "collapsed_sections": []
    },
    "kernelspec": {
      "name": "python3",
      "display_name": "Python 3"
    },
    "accelerator": "GPU"
  },
  "cells": [
    {
      "cell_type": "code",
      "metadata": {
        "id": "RDO80Qq9vuKt",
        "colab_type": "code",
        "outputId": "8ce9b319-f5df-4b68-9d2d-cebcf0d0f0a5",
        "colab": {
          "base_uri": "https://localhost:8080/",
          "height": 34
        }
      },
      "source": [
        "import os\n",
        "import json\n",
        "import numpy as np\n",
        "from keras.models import load_model\n",
        "import matplotlib.pyplot as plt\n",
        "from google.colab import drive\n",
        "drive.mount('/content/drive')"
      ],
      "execution_count": 2,
      "outputs": [
        {
          "output_type": "stream",
          "text": [
            "Drive already mounted at /content/drive; to attempt to forcibly remount, call drive.mount(\"/content/drive\", force_remount=True).\n"
          ],
          "name": "stdout"
        }
      ]
    },
    {
      "cell_type": "code",
      "metadata": {
        "id": "5CADPHL34Yp7",
        "colab_type": "code",
        "colab": {}
      },
      "source": [
        "# Install OpenPose\n",
        "\n",
        "import os\n",
        "from os.path import exists, join, basename, splitext\n",
        "\n",
        "git_repo_url = 'https://github.com/CMU-Perceptual-Computing-Lab/openpose.git'\n",
        "project_name = splitext(basename(git_repo_url))[0]\n",
        "if not exists(project_name):\n",
        "  # see: https://github.com/CMU-Perceptual-Computing-Lab/openpose/issues/949\n",
        "  # install new CMake becaue of CUDA10\n",
        "  !wget -q https://cmake.org/files/v3.13/cmake-3.13.0-Linux-x86_64.tar.gz\n",
        "  !tar xfz cmake-3.13.0-Linux-x86_64.tar.gz --strip-components=1 -C /usr/local\n",
        "  # clone openpose\n",
        "  !git clone -q --depth 1 $git_repo_url\n",
        "  !sed -i 's/execute_process(COMMAND git checkout master WORKING_DIRECTORY ${CMAKE_SOURCE_DIR}\\/3rdparty\\/caffe)/execute_process(COMMAND git checkout f019d0dfe86f49d1140961f8c7dec22130c83154 WORKING_DIRECTORY ${CMAKE_SOURCE_DIR}\\/3rdparty\\/caffe)/g' openpose/CMakeLists.txt\n",
        "  # install system dependencies\n",
        "  !apt-get -qq install -y libatlas-base-dev libprotobuf-dev libleveldb-dev libsnappy-dev libhdf5-serial-dev protobuf-compiler libgflags-dev libgoogle-glog-dev liblmdb-dev opencl-headers ocl-icd-opencl-dev libviennacl-dev\n",
        "  # install python dependencies\n",
        "  !pip install -q youtube-dl\n",
        "  # build openpose\n",
        "  !cd openpose && rm -rf build || true && mkdir build && cd build && cmake .. && make -j`nproc`"
      ],
      "execution_count": 0,
      "outputs": []
    },
    {
      "cell_type": "code",
      "metadata": {
        "id": "9RpfDlZA-Q28",
        "colab_type": "code",
        "colab": {}
      },
      "source": [
        "# delete directory\n",
        "filename = '/content/drive/My Drive/Colab Notebooks/ANN/test_openpose/'\n",
        "\n",
        "if os.path.exists(filename):\n",
        "    os.rmdir(filename)"
      ],
      "execution_count": 0,
      "outputs": []
    },
    {
      "cell_type": "code",
      "metadata": {
        "id": "qqJVYQaqKk--",
        "colab_type": "code",
        "colab": {}
      },
      "source": [
        "# get body landmarks using open pose\n",
        "!cd openpose && ./build/examples/openpose/openpose.bin --video /content/drive/My\\ Drive/Colab\\ Notebooks/ANN/data/wave-ixmas/wave40.avi --write_json /content/drive/My\\ Drive/Colab\\ Notebooks/ANN/test_openpose/ --display 0 --render_pose 0"
      ],
      "execution_count": 0,
      "outputs": []
    },
    {
      "cell_type": "code",
      "metadata": {
        "id": "hzziGadhv85j",
        "colab_type": "code",
        "colab": {}
      },
      "source": [
        "path = '/content/drive/My Drive/Colab Notebooks/ANN/test_openpose/'\n",
        "model = load_model('/content/drive/My Drive/Colab Notebooks/ANN/model1.h5')\n",
        "\n",
        "def test_prepare_data(file_name, path):\n",
        "  d = list()\n",
        "  for file in os.listdir(path):\n",
        "    if file.startswith(file_name + '_'):\n",
        "      with open(os.path.join(path, file)) as f_json:\n",
        "        df = json.load(f_json)\n",
        "        if (df['people'] != []):\n",
        "          keypoints = df['people'][0]['pose_keypoints_2d']\n",
        "          d.append(keypoints)\n",
        "  return d\n",
        "\n",
        "def testing(file_name):\n",
        "  test = np.array(test_prepare_data(file_name, path))\n",
        "  X_test = np.zeros((1, 81, 75))\n",
        "  X_test[0, 0:len(test)] = test if len(test) < 81 else test[0:81]\n",
        "  print(\"X_test shape = %s\"%(str(X_test.shape)))\n",
        "  y_hat = model.predict(X_test)\n",
        "  print(\"prediction = %s\"%(str(y_hat)))\n",
        "\n",
        "  # show the figure\n",
        "  frames = range(0, X_test.shape[1])\n",
        "  plt.plot(frames, np.transpose(np.ones(X_test.shape[1]) * y_hat), 'b', label = 'pick up')\n",
        "  plt.ylabel('Label')\n",
        "  plt.xlabel('time(frame number)')\n",
        "  plt.ylim([-0.2 , 1.2])\n",
        "  plt.legend()\n",
        "\n",
        "  # create json file\n",
        "  j_dict = {\n",
        "      \"pick up\": [0, float(y_hat)]\n",
        "  }\n",
        "  print(j_dict)\n",
        "  return j_dict\n"
      ],
      "execution_count": 0,
      "outputs": []
    },
    {
      "cell_type": "code",
      "metadata": {
        "id": "32BpTWv440Cp",
        "colab_type": "code",
        "colab": {
          "base_uri": "https://localhost:8080/",
          "height": 334
        },
        "outputId": "db517100-3d2c-4b23-b8ba-78b153cd4836"
      },
      "source": [
        "# test1\n",
        "\n",
        "file_name = 'pick37'\n",
        "j_dict = testing(file_name)\n",
        "\n",
        "with open(os.path.join(path, file_name + '.json'), 'w') as fp:\n",
        "    json.dump(j_dict, fp,  indent=4)"
      ],
      "execution_count": 85,
      "outputs": [
        {
          "output_type": "stream",
          "text": [
            "X_test shape = (1, 81, 75)\n",
            "prediction = [[0.9967309]]\n",
            "{'pick up': [0, 0.9967309236526489]}\n"
          ],
          "name": "stdout"
        },
        {
          "output_type": "display_data",
          "data": {
            "image/png": "[encoded data removed]",
            "text/plain": [
              "<Figure size 432x288 with 1 Axes>"
            ]
          },
          "metadata": {
            "tags": []
          }
        }
      ]
    },
    {
      "cell_type": "code",
      "metadata": {
        "id": "CPiJqq7lKakv",
        "colab_type": "code",
        "colab": {
          "base_uri": "https://localhost:8080/",
          "height": 334
        },
        "outputId": "9ff25d71-e9b3-4001-d889-ccd8b0704fab"
      },
      "source": [
        "# test2\n",
        "\n",
        "file_name = 'wave36'\n",
        "j_dict = testing(file_name)\n",
        "\n",
        "with open(os.path.join(path, file_name + '.json'), 'w') as fp:\n",
        "    json.dump(j_dict, fp,  indent=4)"
      ],
      "execution_count": 86,
      "outputs": [
        {
          "output_type": "stream",
          "text": [
            "X_test shape = (1, 81, 75)\n",
            "prediction = [[0.00677574]]\n",
            "{'pick up': [0, 0.006775740068405867]}\n"
          ],
          "name": "stdout"
        },
        {
          "output_type": "display_data",
          "data": {
            "image/png": "[encoded data removed]",
            "text/plain": [
              "<Figure size 432x288 with 1 Axes>"
            ]
          },
          "metadata": {
            "tags": []
          }
        }
      ]
    },
    {
      "cell_type": "code",
      "metadata": {
        "id": "T135LjzXKzqp",
        "colab_type": "code",
        "colab": {
          "base_uri": "https://localhost:8080/",
          "height": 334
        },
        "outputId": "95ee52db-d024-4f02-f08e-e56c73dd1559"
      },
      "source": [
        "# test3\n",
        "\n",
        "file_name = 'pick38'\n",
        "j_dict = testing(file_name)\n",
        "\n",
        "with open(os.path.join(path, file_name + '.json'), 'w') as fp:\n",
        "    json.dump(j_dict, fp,  indent=4)"
      ],
      "execution_count": 87,
      "outputs": [
        {
          "output_type": "stream",
          "text": [
            "X_test shape = (1, 81, 75)\n",
            "prediction = [[0.9967816]]\n",
            "{'pick up': [0, 0.996781587600708]}\n"
          ],
          "name": "stdout"
        },
        {
          "output_type": "display_data",
          "data": {
            "image/png": "[encoded data removed]",
            "text/plain": [
              "<Figure size 432x288 with 1 Axes>"
            ]
          },
          "metadata": {
            "tags": []
          }
        }
      ]
    },
    {
      "cell_type": "code",
      "metadata": {
        "id": "d8BiUeQLK0V1",
        "colab_type": "code",
        "colab": {
          "base_uri": "https://localhost:8080/",
          "height": 334
        },
        "outputId": "abbe9032-da04-48c5-878b-1132573161de"
      },
      "source": [
        "# test4\n",
        "\n",
        "file_name = 'wave37'\n",
        "j_dict = testing(file_name)\n",
        "\n",
        "with open(os.path.join(path, file_name + '.json'), 'w') as fp:\n",
        "    json.dump(j_dict, fp,  indent=4)"
      ],
      "execution_count": 88,
      "outputs": [
        {
          "output_type": "stream",
          "text": [
            "X_test shape = (1, 81, 75)\n",
            "prediction = [[0.00727741]]\n",
            "{'pick up': [0, 0.007277413737028837]}\n"
          ],
          "name": "stdout"
        },
        {
          "output_type": "display_data",
          "data": {
            "image/png": "[encoded data removed]",
            "text/plain": [
              "<Figure size 432x288 with 1 Axes>"
            ]
          },
          "metadata": {
            "tags": []
          }
        }
      ]
    },
    {
      "cell_type": "code",
      "metadata": {
        "id": "pSMuV-dVK0h4",
        "colab_type": "code",
        "colab": {
          "base_uri": "https://localhost:8080/",
          "height": 334
        },
        "outputId": "092fbadc-093b-4ae8-f53d-c1d305e4f213"
      },
      "source": [
        "# test5\n",
        "\n",
        "file_name = 'pick39'\n",
        "j_dict = testing(file_name)\n",
        "\n",
        "with open(os.path.join(path, file_name + '.json'), 'w') as fp:\n",
        "    json.dump(j_dict, fp,  indent=4)"
      ],
      "execution_count": 89,
      "outputs": [
        {
          "output_type": "stream",
          "text": [
            "X_test shape = (1, 81, 75)\n",
            "prediction = [[0.99677306]]\n",
            "{'pick up': [0, 0.9967730641365051]}\n"
          ],
          "name": "stdout"
        },
        {
          "output_type": "display_data",
          "data": {
            "image/png": "[encoded data removed]",
            "text/plain": [
              "<Figure size 432x288 with 1 Axes>"
            ]
          },
          "metadata": {
            "tags": []
          }
        }
      ]
    }
  ]
}